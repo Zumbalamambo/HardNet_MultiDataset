{
 "cells": [
  {
   "cell_type": "code",
   "execution_count": 13,
   "metadata": {},
   "outputs": [],
   "source": [
    "import time, os, getpass\n",
    "if \"set_dummy\" not in locals():\n",
    "    os.chdir('..')\n",
    "set_dummy = 'dummy'\n",
    "import multiprocessing,threading,urllib,ipykernel,tempfile,concurrent.futures,matplotlib,warnings,zipfile # fix for fastai2.basics\n",
    "from datasets import *\n",
    "from architectures import *\n",
    "from learning import *\n",
    "from eval_metrics import *\n",
    "from losses import *\n",
    "from parser_ import get_args\n",
    "from fastai2.basics import *\n",
    "from fastai2.callback.all import *\n",
    "from fastai2.vision.all import *"
   ]
  },
  {
   "cell_type": "code",
   "execution_count": 14,
   "metadata": {},
   "outputs": [
    {
     "name": "stdout",
     "output_type": "stream",
     "text": [
      "Loading HardNet ...\n",
      "arch: ['h7']\n",
      "h7lib+colo+notre-fewcams-pca128lib\n"
     ]
    }
   ],
   "source": [
    "name = \"\"\"\n",
    "id:e2_arch:h7_ds:liberty_loss:tripletMargin_mpos:1.0_mneg:1.0_lr:3.0_maxsets:2000_sigmas-v:e011_thr:0.00016_WF:Hessian_PG:new_masks:AMOS-masks_tps:5000000_CamsB:5_fliprot_fewcams_ep:20_bs:3072_pos:2_dups:0\n",
    "\"\"\".strip()\n",
    "model = load_hardnet(name)\n",
    "outname=name.split('_')[1].split(':')[1]\n",
    "outname+='lib+colo+notre'\n",
    "outname+='-fewcams-'\n",
    "outname+='pca128'\n",
    "outname+='lib'\n",
    "print(outname)"
   ]
  },
  {
   "cell_type": "code",
   "execution_count": 5,
   "metadata": {},
   "outputs": [],
   "source": [
    "ds = torch.load('Datasets/6Brown/liberty.pt')\n",
    "patches = ds['patches']\n",
    "labels = ds['labels']"
   ]
  },
  {
   "cell_type": "code",
   "execution_count": 6,
   "metadata": {},
   "outputs": [],
   "source": [
    "resize_transform = transforms.Compose([\n",
    "    transforms.ToPILImage(),\n",
    "    transforms.Resize(32),\n",
    "    transforms.ToTensor()\n",
    "])\n",
    "\n",
    "def chunks(lst, n): # Yield successive n-sized chunks from lst\n",
    "    for i in range(0, len(lst), n):\n",
    "        yield lst[i:i + n]"
   ]
  },
  {
   "cell_type": "code",
   "execution_count": 7,
   "metadata": {},
   "outputs": [],
   "source": [
    "inputs = [resize_transform(c) for c in patches]\n",
    "inputs = torch.stack(inputs).cuda()"
   ]
  },
  {
   "cell_type": "code",
   "execution_count": 8,
   "metadata": {},
   "outputs": [],
   "source": [
    "descs = []\n",
    "for batch in chunks(inputs, 1024):\n",
    "    descs += [model(batch).cpu().data.numpy()]\n",
    "descs = np.concatenate(descs)"
   ]
  },
  {
   "cell_type": "code",
   "execution_count": 9,
   "metadata": {},
   "outputs": [
    {
     "data": {
      "text/plain": [
       "PCA(copy=True, iterated_power='auto', n_components=128, random_state=None,\n",
       "    svd_solver='auto', tol=0.0, whiten=False)"
      ]
     },
     "execution_count": 9,
     "metadata": {},
     "output_type": "execute_result"
    }
   ],
   "source": [
    "ncmps = 128\n",
    "pca = PCA(n_components=ncmps)\n",
    "pca.fit(descs)"
   ]
  },
  {
   "cell_type": "code",
   "execution_count": 10,
   "metadata": {},
   "outputs": [
    {
     "name": "stdout",
     "output_type": "stream",
     "text": [
      "h8E512pca128\n"
     ]
    }
   ],
   "source": [
    "w=torch.load('Models/{}/{}.pt'.format(name,name))\n",
    "arch=w['model_arch']\n",
    "w['model_arch']=arch+'pca'+str(ncmps)\n",
    "w['pca']=pca\n",
    "torch.save(w, outname+'.pt')\n",
    "print(w['model_arch'])"
   ]
  },
  {
   "cell_type": "code",
   "execution_count": 9,
   "metadata": {},
   "outputs": [],
   "source": []
  }
 ],
 "metadata": {
  "kernelspec": {
   "display_name": "env_kornia",
   "language": "python",
   "name": "env_kornia"
  },
  "language_info": {
   "codemirror_mode": {
    "name": "ipython",
    "version": 3
   },
   "file_extension": ".py",
   "mimetype": "text/x-python",
   "name": "python",
   "nbconvert_exporter": "python",
   "pygments_lexer": "ipython3",
   "version": "3.8.2"
  }
 },
 "nbformat": 4,
 "nbformat_minor": 2
}
